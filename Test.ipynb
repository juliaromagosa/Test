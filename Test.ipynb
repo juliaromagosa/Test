{
 "cells": [
  {
   "cell_type": "markdown",
   "metadata": {},
   "source": [
    "# Technical challenge"
   ]
  },
  {
   "cell_type": "code",
   "execution_count": 1,
   "metadata": {
    "ExecuteTime": {
     "end_time": "2024-10-13T11:13:57.338716Z",
     "start_time": "2024-10-13T11:13:55.985608Z"
    }
   },
   "outputs": [],
   "source": [
    "import os\n",
    "import numpy as np\n",
    "import pandas as pd\n",
    "import matplotlib.pyplot as plt\n",
    "import SimpleITK as sitk\n",
    "from sklearn import metrics\n",
    "from sklearn.metrics import confusion_matrix, ConfusionMatrixDisplay"
   ]
  },
  {
   "cell_type": "markdown",
   "metadata": {},
   "source": [
    "## Part 1"
   ]
  },
  {
   "cell_type": "code",
   "execution_count": 2,
   "metadata": {
    "ExecuteTime": {
     "end_time": "2024-10-13T11:13:57.506199Z",
     "start_time": "2024-10-13T11:13:57.340134Z"
    }
   },
   "outputs": [
    {
     "name": "stderr",
     "output_type": "stream",
     "text": [
      "<ipython-input-2-62e428f88536>:1: DtypeWarning: Columns (129,138,139,140,141,142,143,148,152,157,158,168,169,172,173,176,179,180,181,189,191) have mixed types. Specify dtype option on import or set low_memory=False.\n",
      "  df=pd.read_csv('/Users/juliaromagosa/Downloads/part1_inventory_test.csv')\n"
     ]
    },
    {
     "data": {
      "text/html": [
       "<div>\n",
       "<style scoped>\n",
       "    .dataframe tbody tr th:only-of-type {\n",
       "        vertical-align: middle;\n",
       "    }\n",
       "\n",
       "    .dataframe tbody tr th {\n",
       "        vertical-align: top;\n",
       "    }\n",
       "\n",
       "    .dataframe thead th {\n",
       "        text-align: right;\n",
       "    }\n",
       "</style>\n",
       "<table border=\"1\" class=\"dataframe\">\n",
       "  <thead>\n",
       "    <tr style=\"text-align: right;\">\n",
       "      <th></th>\n",
       "      <th>PatientID</th>\n",
       "      <th>PatientSex</th>\n",
       "      <th>PatientBirthDate</th>\n",
       "      <th>StudyInstanceUID</th>\n",
       "      <th>StudyDescription</th>\n",
       "      <th>StudyDate</th>\n",
       "      <th>SeriesInstanceUID</th>\n",
       "      <th>SeriesDescription</th>\n",
       "      <th>Manufacturer</th>\n",
       "      <th>Instances</th>\n",
       "      <th>...</th>\n",
       "      <th>RETIRED_CurveDimensions</th>\n",
       "      <th>RETIRED_NumberOfPoints</th>\n",
       "      <th>RETIRED_TypeOfData</th>\n",
       "      <th>RETIRED_CurveDescription</th>\n",
       "      <th>RETIRED_DataValueRepresentation</th>\n",
       "      <th>RETIRED_CurveData</th>\n",
       "      <th>SmallestPixelValueInSeries</th>\n",
       "      <th>LargestPixelValueInSeries</th>\n",
       "      <th>ScanArc</th>\n",
       "      <th>RouteOfAdmissions</th>\n",
       "    </tr>\n",
       "  </thead>\n",
       "  <tbody>\n",
       "    <tr>\n",
       "      <th>0</th>\n",
       "      <td>K100</td>\n",
       "      <td>NaN</td>\n",
       "      <td>NaN</td>\n",
       "      <td>1.3.12.2.1107.5.1.4.28600023236596336688906318...</td>\n",
       "      <td>CT BRAIN WO CONTRAST (70450)</td>\n",
       "      <td>20220401</td>\n",
       "      <td>1.3.12.2.1107.5.1.4.19743776053189314668198005...</td>\n",
       "      <td>Topogram__0_6__T20s</td>\n",
       "      <td>SIEMENS</td>\n",
       "      <td>2</td>\n",
       "      <td>...</td>\n",
       "      <td>NaN</td>\n",
       "      <td>NaN</td>\n",
       "      <td>NaN</td>\n",
       "      <td>NaN</td>\n",
       "      <td>NaN</td>\n",
       "      <td>NaN</td>\n",
       "      <td>NaN</td>\n",
       "      <td>NaN</td>\n",
       "      <td>NaN</td>\n",
       "      <td>NaN</td>\n",
       "    </tr>\n",
       "    <tr>\n",
       "      <th>1</th>\n",
       "      <td>K100</td>\n",
       "      <td>NaN</td>\n",
       "      <td>NaN</td>\n",
       "      <td>1.3.12.2.1107.5.1.4.28600023236596336688906318...</td>\n",
       "      <td>CT BRAIN WO CONTRAST (70450)</td>\n",
       "      <td>20220401</td>\n",
       "      <td>1.3.12.2.1107.5.1.4.14463949905640131236256856...</td>\n",
       "      <td>Helical_Head__5_0__J37s</td>\n",
       "      <td>SIEMENS</td>\n",
       "      <td>36</td>\n",
       "      <td>...</td>\n",
       "      <td>NaN</td>\n",
       "      <td>NaN</td>\n",
       "      <td>NaN</td>\n",
       "      <td>NaN</td>\n",
       "      <td>NaN</td>\n",
       "      <td>NaN</td>\n",
       "      <td>NaN</td>\n",
       "      <td>NaN</td>\n",
       "      <td>NaN</td>\n",
       "      <td>NaN</td>\n",
       "    </tr>\n",
       "    <tr>\n",
       "      <th>2</th>\n",
       "      <td>K100</td>\n",
       "      <td>NaN</td>\n",
       "      <td>NaN</td>\n",
       "      <td>1.3.12.2.1107.5.1.4.28600023236596336688906318...</td>\n",
       "      <td>CT BRAIN WO CONTRAST (70450)</td>\n",
       "      <td>20220401</td>\n",
       "      <td>1.3.12.2.1107.5.1.4.11270577611930653926640724...</td>\n",
       "      <td>Helical_Head__5_0__Axial_MPR</td>\n",
       "      <td>SIEMENS</td>\n",
       "      <td>41</td>\n",
       "      <td>...</td>\n",
       "      <td>NaN</td>\n",
       "      <td>NaN</td>\n",
       "      <td>NaN</td>\n",
       "      <td>NaN</td>\n",
       "      <td>NaN</td>\n",
       "      <td>NaN</td>\n",
       "      <td>NaN</td>\n",
       "      <td>NaN</td>\n",
       "      <td>NaN</td>\n",
       "      <td>NaN</td>\n",
       "    </tr>\n",
       "    <tr>\n",
       "      <th>3</th>\n",
       "      <td>K100</td>\n",
       "      <td>NaN</td>\n",
       "      <td>NaN</td>\n",
       "      <td>1.3.12.2.1107.5.1.4.28600023236596336688906318...</td>\n",
       "      <td>CT BRAIN WO CONTRAST (70450)</td>\n",
       "      <td>20220401</td>\n",
       "      <td>1.3.12.2.1107.5.1.4.17407020384920076295523451...</td>\n",
       "      <td>Helical_Head_Coronal</td>\n",
       "      <td>SIEMENS</td>\n",
       "      <td>49</td>\n",
       "      <td>...</td>\n",
       "      <td>NaN</td>\n",
       "      <td>NaN</td>\n",
       "      <td>NaN</td>\n",
       "      <td>NaN</td>\n",
       "      <td>NaN</td>\n",
       "      <td>NaN</td>\n",
       "      <td>NaN</td>\n",
       "      <td>NaN</td>\n",
       "      <td>NaN</td>\n",
       "      <td>NaN</td>\n",
       "    </tr>\n",
       "    <tr>\n",
       "      <th>4</th>\n",
       "      <td>K100</td>\n",
       "      <td>NaN</td>\n",
       "      <td>NaN</td>\n",
       "      <td>1.3.12.2.1107.5.1.4.28600023236596336688906318...</td>\n",
       "      <td>CT BRAIN WO CONTRAST (70450)</td>\n",
       "      <td>20220401</td>\n",
       "      <td>1.3.12.2.1107.5.1.4.84337701080239475497944344...</td>\n",
       "      <td>Helical_Head_Sagittal</td>\n",
       "      <td>SIEMENS</td>\n",
       "      <td>49</td>\n",
       "      <td>...</td>\n",
       "      <td>NaN</td>\n",
       "      <td>NaN</td>\n",
       "      <td>NaN</td>\n",
       "      <td>NaN</td>\n",
       "      <td>NaN</td>\n",
       "      <td>NaN</td>\n",
       "      <td>NaN</td>\n",
       "      <td>NaN</td>\n",
       "      <td>NaN</td>\n",
       "      <td>NaN</td>\n",
       "    </tr>\n",
       "  </tbody>\n",
       "</table>\n",
       "<p>5 rows × 206 columns</p>\n",
       "</div>"
      ],
      "text/plain": [
       "  PatientID  PatientSex  PatientBirthDate  \\\n",
       "0      K100         NaN               NaN   \n",
       "1      K100         NaN               NaN   \n",
       "2      K100         NaN               NaN   \n",
       "3      K100         NaN               NaN   \n",
       "4      K100         NaN               NaN   \n",
       "\n",
       "                                    StudyInstanceUID  \\\n",
       "0  1.3.12.2.1107.5.1.4.28600023236596336688906318...   \n",
       "1  1.3.12.2.1107.5.1.4.28600023236596336688906318...   \n",
       "2  1.3.12.2.1107.5.1.4.28600023236596336688906318...   \n",
       "3  1.3.12.2.1107.5.1.4.28600023236596336688906318...   \n",
       "4  1.3.12.2.1107.5.1.4.28600023236596336688906318...   \n",
       "\n",
       "               StudyDescription  StudyDate  \\\n",
       "0  CT BRAIN WO CONTRAST (70450)   20220401   \n",
       "1  CT BRAIN WO CONTRAST (70450)   20220401   \n",
       "2  CT BRAIN WO CONTRAST (70450)   20220401   \n",
       "3  CT BRAIN WO CONTRAST (70450)   20220401   \n",
       "4  CT BRAIN WO CONTRAST (70450)   20220401   \n",
       "\n",
       "                                   SeriesInstanceUID  \\\n",
       "0  1.3.12.2.1107.5.1.4.19743776053189314668198005...   \n",
       "1  1.3.12.2.1107.5.1.4.14463949905640131236256856...   \n",
       "2  1.3.12.2.1107.5.1.4.11270577611930653926640724...   \n",
       "3  1.3.12.2.1107.5.1.4.17407020384920076295523451...   \n",
       "4  1.3.12.2.1107.5.1.4.84337701080239475497944344...   \n",
       "\n",
       "              SeriesDescription Manufacturer  Instances  ...  \\\n",
       "0           Topogram__0_6__T20s      SIEMENS          2  ...   \n",
       "1       Helical_Head__5_0__J37s      SIEMENS         36  ...   \n",
       "2  Helical_Head__5_0__Axial_MPR      SIEMENS         41  ...   \n",
       "3          Helical_Head_Coronal      SIEMENS         49  ...   \n",
       "4         Helical_Head_Sagittal      SIEMENS         49  ...   \n",
       "\n",
       "  RETIRED_CurveDimensions  RETIRED_NumberOfPoints  RETIRED_TypeOfData  \\\n",
       "0                     NaN                     NaN                 NaN   \n",
       "1                     NaN                     NaN                 NaN   \n",
       "2                     NaN                     NaN                 NaN   \n",
       "3                     NaN                     NaN                 NaN   \n",
       "4                     NaN                     NaN                 NaN   \n",
       "\n",
       "   RETIRED_CurveDescription RETIRED_DataValueRepresentation RETIRED_CurveData  \\\n",
       "0                       NaN                             NaN               NaN   \n",
       "1                       NaN                             NaN               NaN   \n",
       "2                       NaN                             NaN               NaN   \n",
       "3                       NaN                             NaN               NaN   \n",
       "4                       NaN                             NaN               NaN   \n",
       "\n",
       "   SmallestPixelValueInSeries LargestPixelValueInSeries  ScanArc  \\\n",
       "0                         NaN                       NaN      NaN   \n",
       "1                         NaN                       NaN      NaN   \n",
       "2                         NaN                       NaN      NaN   \n",
       "3                         NaN                       NaN      NaN   \n",
       "4                         NaN                       NaN      NaN   \n",
       "\n",
       "  RouteOfAdmissions  \n",
       "0               NaN  \n",
       "1               NaN  \n",
       "2               NaN  \n",
       "3               NaN  \n",
       "4               NaN  \n",
       "\n",
       "[5 rows x 206 columns]"
      ]
     },
     "execution_count": 2,
     "metadata": {},
     "output_type": "execute_result"
    }
   ],
   "source": [
    "df=pd.read_csv('/Users/juliaromagosa/Downloads/part1_inventory_test.csv')\n",
    "df.head()"
   ]
  },
  {
   "cell_type": "code",
   "execution_count": 3,
   "metadata": {
    "ExecuteTime": {
     "end_time": "2024-10-13T11:13:57.512173Z",
     "start_time": "2024-10-13T11:13:57.508331Z"
    }
   },
   "outputs": [
    {
     "name": "stdout",
     "output_type": "stream",
     "text": [
      "Number of patients: 326\n"
     ]
    }
   ],
   "source": [
    "# check the number of patients\n",
    "n_patients=df['PatientID'].nunique()\n",
    "print(f'Number of patients: {n_patients}')"
   ]
  },
  {
   "cell_type": "markdown",
   "metadata": {},
   "source": [
    "The conditions which have to be met are:\n",
    "- Non-contrast image\n",
    "- CT modality\n",
    "- Axial orientation\n",
    "- Slice thickness between 2.5 and 5 mm’s\n",
    "- First (in time) NCCT acquired."
   ]
  },
  {
   "cell_type": "code",
   "execution_count": 4,
   "metadata": {
    "ExecuteTime": {
     "end_time": "2024-10-13T11:13:57.523283Z",
     "start_time": "2024-10-13T11:13:57.513786Z"
    }
   },
   "outputs": [
    {
     "data": {
      "text/plain": [
       "{'CT ANGIO HEAD & NECK W/WO (70496, 70498)',\n",
       " 'CT ANGIO HEAD W/WO CONTRAST (70496)',\n",
       " 'CT BRAIN WO CONTRAST (70450)',\n",
       " 'CT BRAIN WO, CTA BRAIN & CEREBRAL PERFUSION (70496, 0042T)',\n",
       " 'CTA BRAIN & CEREBRAL PERFUSION (70496, 0042T)',\n",
       " 'EXTERNAL CT - STORE ONLY',\n",
       " 'EXTERNAL CT - STORE ONLY - RAD',\n",
       " 'EXTERNAL CT BRAIN - STORE ONLY',\n",
       " 'EXTERNAL CT BRAIN - STORE ONLY - RAD',\n",
       " 'EXTERNAL CT BRAIN INTERPRET',\n",
       " 'EXTERNAL CT-STORE & INTERPRET',\n",
       " 'EXTERNAL CTA HEAD - STORE ONLY',\n",
       " 'EXTERNAL CTA HEAD - STORE ONLY - RAD',\n",
       " 'EXTERNAL CTA HEAD INTERPRET'}"
      ]
     },
     "execution_count": 4,
     "metadata": {},
     "output_type": "execute_result"
    }
   ],
   "source": [
    "# First we select only CT images\n",
    "df=df[df.Modality=='CT']\n",
    "# See different types of studies\n",
    "set(df.StudyDescription.values)"
   ]
  },
  {
   "cell_type": "markdown",
   "metadata": {},
   "source": [
    "As many are ambiguous, we observe the values of the contrast columns:"
   ]
  },
  {
   "cell_type": "code",
   "execution_count": 5,
   "metadata": {
    "ExecuteTime": {
     "end_time": "2024-10-13T11:13:57.531626Z",
     "start_time": "2024-10-13T11:13:57.527254Z"
    }
   },
   "outputs": [
    {
     "name": "stdout",
     "output_type": "stream",
     "text": [
      "ContrastBolusAgent                        0\n",
      "ContrastBolusVolume                     162\n",
      "ContrastBolusTotalDose                  162\n",
      "ContrastBolusIngredient                   0\n",
      "ContrastBolusIngredientConcentration    162\n",
      "ContrastBolusStartTime                  223\n",
      "ContrastBolusStopTime                   158\n",
      "ContrastFlowRate                        159\n",
      "ContrastFlowDuration                    159\n",
      "ContrastBolusRoute                        0\n",
      "dtype: int64\n"
     ]
    }
   ],
   "source": [
    "contrast_columns = [column for column in df.columns if 'Contrast' in column]\n",
    "\n",
    "# Count NaN \n",
    "contrast_nan = df[contrast_columns].notna().sum()\n",
    "\n",
    "print(contrast_nan)"
   ]
  },
  {
   "cell_type": "markdown",
   "metadata": {},
   "source": [
    "As there are values which are not nan, we observe if them are 0 or otherwise they do have an information about the contrast, meaning there is information about the contrast agent."
   ]
  },
  {
   "cell_type": "code",
   "execution_count": 6,
   "metadata": {
    "ExecuteTime": {
     "end_time": "2024-10-13T11:13:57.536052Z",
     "start_time": "2024-10-13T11:13:57.532540Z"
    }
   },
   "outputs": [
    {
     "data": {
      "text/plain": [
       "array([124130.442014, 133126.302006, 221902.394997, 182357.054004,\n",
       "       161141.108998,  51332.058011, 203222.684025, 211833.      ,\n",
       "       122116.39702 , 142155.31201 , 135009.152001,  45254.952993,\n",
       "       154423.735019, 184904.52903 , 134205.483009, 171601.85    ,\n",
       "       172655.85    , 121619.4     ,  63924.330004,  93247.119002,\n",
       "       163453.84902 , 123126.060017, 212805.55    , 102619.75    ,\n",
       "        60050.078988, 103518.75    , 141403.757014, 103304.961016])"
      ]
     },
     "execution_count": 6,
     "metadata": {},
     "output_type": "execute_result"
    }
   ],
   "source": [
    "# See which values are different from nan in the column more restrictive\n",
    "valores_no_nan = df['ContrastBolusStartTime'].dropna()\n",
    "valores_no_nan.unique()"
   ]
  },
  {
   "cell_type": "markdown",
   "metadata": {},
   "source": [
    "As they are not 0 and not nan, it is supposed that this images are acquired with contrast."
   ]
  },
  {
   "cell_type": "code",
   "execution_count": 7,
   "metadata": {
    "ExecuteTime": {
     "end_time": "2024-10-13T11:13:57.543904Z",
     "start_time": "2024-10-13T11:13:57.536966Z"
    }
   },
   "outputs": [],
   "source": [
    "# Select only nan columns, so it means there is no contrast\n",
    "df_cleaned = df[df['ContrastBolusStartTime'].isna()]"
   ]
  },
  {
   "cell_type": "markdown",
   "metadata": {},
   "source": [
    "Now we have cleaned images with contrast and selected CT images."
   ]
  },
  {
   "cell_type": "markdown",
   "metadata": {},
   "source": [
    "To select only axial images we look for the orientation and select '1\\\\0\\\\0\\\\0\\\\1\\\\0' rows:"
   ]
  },
  {
   "cell_type": "code",
   "execution_count": 8,
   "metadata": {
    "ExecuteTime": {
     "end_time": "2024-10-13T11:13:57.547720Z",
     "start_time": "2024-10-13T11:13:57.544810Z"
    }
   },
   "outputs": [
    {
     "data": {
      "text/plain": [
       "array(['0\\\\1\\\\0\\\\0\\\\0\\\\-1', '1\\\\0\\\\0\\\\0\\\\1\\\\0',\n",
       "       '0.99722881968274\\\\-0.074395437993\\\\0\\\\0.05887243050198\\\\0.78915167334069\\\\-0.6113703242638',\n",
       "       ..., nan, '1\\\\-6.123234e-017\\\\0\\\\0\\\\0\\\\-1',\n",
       "       '1\\\\-6.123234e-017\\\\0\\\\0\\\\0\\\\-1'], dtype=object)"
      ]
     },
     "execution_count": 8,
     "metadata": {},
     "output_type": "execute_result"
    }
   ],
   "source": [
    "#for axial images\n",
    "df_cleaned.ImageOrientationPatient.values"
   ]
  },
  {
   "cell_type": "markdown",
   "metadata": {},
   "source": [
    "As many don't are excat, we round the numbers:"
   ]
  },
  {
   "cell_type": "code",
   "execution_count": 9,
   "metadata": {
    "ExecuteTime": {
     "end_time": "2024-10-13T11:13:58.079251Z",
     "start_time": "2024-10-13T11:13:57.548884Z"
    }
   },
   "outputs": [
    {
     "data": {
      "text/plain": [
       "array(['0\\\\1\\\\0\\\\0\\\\0\\\\-1', '1\\\\0\\\\0\\\\0\\\\1\\\\0', '1\\\\0\\\\0\\\\0\\\\1\\\\-1', ...,\n",
       "       '0\\\\1\\\\0\\\\0\\\\0\\\\-1', '1\\\\0\\\\0\\\\0\\\\0\\\\-1', '1\\\\0\\\\0\\\\0\\\\0\\\\-1'],\n",
       "      dtype=object)"
      ]
     },
     "execution_count": 9,
     "metadata": {},
     "output_type": "execute_result"
    }
   ],
   "source": [
    "#drop nan values form this column\n",
    "df_cleaned=df_cleaned.dropna(subset=['ImageOrientationPatient'])\n",
    "df_cleaned.reset_index(inplace=True,drop=True)\n",
    "\n",
    "# Round values\n",
    "for index in range(len(df_cleaned)):\n",
    "    parts = df_cleaned.loc[index, 'ImageOrientationPatient'].split('\\\\')\n",
    "    rounded_parts = [str(int(round(float(part)))) for part in parts]\n",
    "    df_cleaned.loc[index, 'ImageOrientationPatient'] = '\\\\'.join(rounded_parts)\n",
    "\n",
    "df_cleaned.ImageOrientationPatient.values"
   ]
  },
  {
   "cell_type": "code",
   "execution_count": 10,
   "metadata": {
    "ExecuteTime": {
     "end_time": "2024-10-13T11:13:58.086313Z",
     "start_time": "2024-10-13T11:13:58.080410Z"
    }
   },
   "outputs": [],
   "source": [
    "# Select only Axial images\n",
    "df_cleaned=df_cleaned[df_cleaned['ImageOrientationPatient']=='1\\\\0\\\\0\\\\0\\\\1\\\\0']"
   ]
  },
  {
   "cell_type": "markdown",
   "metadata": {},
   "source": [
    "For the slice thickness condition:"
   ]
  },
  {
   "cell_type": "code",
   "execution_count": 11,
   "metadata": {
    "ExecuteTime": {
     "end_time": "2024-10-13T11:13:58.097249Z",
     "start_time": "2024-10-13T11:13:58.087312Z"
    }
   },
   "outputs": [],
   "source": [
    "# Slice thickness between 2.5 and 5 mm’s\n",
    "# first drop nan\n",
    "df_cleaned=df_cleaned.dropna(subset=['SliceThickness'])\n",
    "df_cleaned.SliceThickness.values\n",
    "\n",
    "# Select appropiate thickness\n",
    "df_cleaned = df_cleaned[(df_cleaned['SliceThickness'] >= 2.5) & (df_cleaned['SliceThickness'] <= 5)]"
   ]
  },
  {
   "cell_type": "markdown",
   "metadata": {},
   "source": [
    "Now, I check BodyPartExamined of the remaining:"
   ]
  },
  {
   "cell_type": "code",
   "execution_count": 12,
   "metadata": {
    "ExecuteTime": {
     "end_time": "2024-10-13T11:13:58.100602Z",
     "start_time": "2024-10-13T11:13:58.098238Z"
    }
   },
   "outputs": [
    {
     "data": {
      "text/plain": [
       "{'BRAIN', 'CT_ HEAD', 'CT_HEAD', 'HEAD', 'NECK', nan}"
      ]
     },
     "execution_count": 12,
     "metadata": {},
     "output_type": "execute_result"
    }
   ],
   "source": [
    "set(df_cleaned.BodyPartExamined.values)"
   ]
  },
  {
   "cell_type": "code",
   "execution_count": 13,
   "metadata": {
    "ExecuteTime": {
     "end_time": "2024-10-13T11:13:58.106156Z",
     "start_time": "2024-10-13T11:13:58.101640Z"
    }
   },
   "outputs": [],
   "source": [
    "# clean the neck image to ensure all are brain images\n",
    "df = df_cleaned[df_cleaned['BodyPartExamined'] != 'NECK']"
   ]
  },
  {
   "cell_type": "code",
   "execution_count": 14,
   "metadata": {
    "ExecuteTime": {
     "end_time": "2024-10-13T11:13:58.110169Z",
     "start_time": "2024-10-13T11:13:58.107119Z"
    }
   },
   "outputs": [
    {
     "name": "stdout",
     "output_type": "stream",
     "text": [
      "Number of patients: 323\n"
     ]
    }
   ],
   "source": [
    "# check the number of patients is still the same\n",
    "n_patients=df['PatientID'].nunique()\n",
    "print(f'Number of patients: {n_patients}')"
   ]
  },
  {
   "cell_type": "markdown",
   "metadata": {},
   "source": [
    "Now, I check ImageType of the remaining:"
   ]
  },
  {
   "cell_type": "code",
   "execution_count": 15,
   "metadata": {
    "ExecuteTime": {
     "end_time": "2024-10-13T11:13:58.113583Z",
     "start_time": "2024-10-13T11:13:58.111167Z"
    }
   },
   "outputs": [
    {
     "data": {
      "text/plain": [
       "{'DERIVED\\\\PRIMARY\\\\AXIAL\\\\CT_SOM5 MPR',\n",
       " 'DERIVED\\\\PRIMARY\\\\LOCALIZER\\\\CT_SOM5 MPR',\n",
       " 'DERIVED\\\\PRIMARY\\\\MPR',\n",
       " 'DERIVED\\\\SECONDARY\\\\AXIAL',\n",
       " 'DERIVED\\\\SECONDARY\\\\AXIAL\\\\MIP THIN\\\\\\\\\\\\PARALLEL',\n",
       " 'DERIVED\\\\SECONDARY\\\\AXIAL\\\\MPR THICK\\\\\\\\\\\\PARALLEL',\n",
       " 'DERIVED\\\\SECONDARY\\\\MPR',\n",
       " 'DERIVED\\\\SECONDARY\\\\OTHER',\n",
       " 'DERIVED\\\\SECONDARY\\\\OTHER\\\\CSA MIP THIN\\\\\\\\AXIAL\\\\CT_SOM5 SPI',\n",
       " 'DERIVED\\\\SECONDARY\\\\OTHER\\\\CSA MIP THIN\\\\\\\\AXIAL\\\\CT_SOM5 SPI\\\\CSA RESAMPLED',\n",
       " 'DERIVED\\\\SECONDARY\\\\OTHER\\\\CSA MPR THICK\\\\\\\\AXIAL\\\\CT_SOM5 SPI',\n",
       " 'ORIGINAL\\\\PRIMARY\\\\AXIAL',\n",
       " 'ORIGINAL\\\\PRIMARY\\\\AXIAL\\\\CT_SOM5 SPI',\n",
       " 'ORIGINAL\\\\PRIMARY\\\\AXIAL\\\\VOLUME'}"
      ]
     },
     "execution_count": 15,
     "metadata": {},
     "output_type": "execute_result"
    }
   ],
   "source": [
    "set(df.ImageType.values)"
   ]
  },
  {
   "cell_type": "markdown",
   "metadata": {},
   "source": [
    "In this case I'd need more information in the type of images which are used for the algorithm training, as if MIP or MPR can be used or just the original CT file."
   ]
  },
  {
   "cell_type": "code",
   "execution_count": 16,
   "metadata": {
    "ExecuteTime": {
     "end_time": "2024-10-13T11:13:58.118281Z",
     "start_time": "2024-10-13T11:13:58.114543Z"
    }
   },
   "outputs": [],
   "source": [
    "# I'd delete the localizer image and the volume one\n",
    "delete = ['DERIVED\\\\PRIMARY\\\\LOCALIZER\\\\CT_SOM5 MPR', 'ORIGINAL\\\\PRIMARY\\\\AXIAL\\\\VOLUME']\n",
    "df_filtered = df[~df['ImageType'].isin(delete)]"
   ]
  },
  {
   "cell_type": "code",
   "execution_count": 17,
   "metadata": {
    "ExecuteTime": {
     "end_time": "2024-10-13T11:13:58.121445Z",
     "start_time": "2024-10-13T11:13:58.119208Z"
    }
   },
   "outputs": [
    {
     "name": "stdout",
     "output_type": "stream",
     "text": [
      "Number of patients: 323\n"
     ]
    }
   ],
   "source": [
    "# check the number of patients\n",
    "n_patients=df_filtered['PatientID'].nunique()\n",
    "print(f'Number of patients: {n_patients}')"
   ]
  },
  {
   "cell_type": "markdown",
   "metadata": {},
   "source": [
    "Now to obtain the first image in date:"
   ]
  },
  {
   "cell_type": "code",
   "execution_count": 18,
   "metadata": {
    "ExecuteTime": {
     "end_time": "2024-10-13T11:13:58.143913Z",
     "start_time": "2024-10-13T11:13:58.122357Z"
    }
   },
   "outputs": [
    {
     "name": "stderr",
     "output_type": "stream",
     "text": [
      "<ipython-input-18-faf0cfbbf491>:2: SettingWithCopyWarning: \n",
      "A value is trying to be set on a copy of a slice from a DataFrame.\n",
      "Try using .loc[row_indexer,col_indexer] = value instead\n",
      "\n",
      "See the caveats in the documentation: https://pandas.pydata.org/pandas-docs/stable/user_guide/indexing.html#returning-a-view-versus-a-copy\n",
      "  df_filtered['StudyDate'] = pd.to_datetime(df_filtered['StudyDate'], format='%Y%m%d')\n"
     ]
    },
    {
     "data": {
      "text/html": [
       "<div>\n",
       "<style scoped>\n",
       "    .dataframe tbody tr th:only-of-type {\n",
       "        vertical-align: middle;\n",
       "    }\n",
       "\n",
       "    .dataframe tbody tr th {\n",
       "        vertical-align: top;\n",
       "    }\n",
       "\n",
       "    .dataframe thead th {\n",
       "        text-align: right;\n",
       "    }\n",
       "</style>\n",
       "<table border=\"1\" class=\"dataframe\">\n",
       "  <thead>\n",
       "    <tr style=\"text-align: right;\">\n",
       "      <th></th>\n",
       "      <th>PatientID</th>\n",
       "      <th>PatientSex</th>\n",
       "      <th>PatientBirthDate</th>\n",
       "      <th>StudyInstanceUID</th>\n",
       "      <th>StudyDescription</th>\n",
       "      <th>StudyDate</th>\n",
       "      <th>SeriesInstanceUID</th>\n",
       "      <th>SeriesDescription</th>\n",
       "      <th>Manufacturer</th>\n",
       "      <th>Instances</th>\n",
       "      <th>...</th>\n",
       "      <th>RETIRED_CurveDimensions</th>\n",
       "      <th>RETIRED_NumberOfPoints</th>\n",
       "      <th>RETIRED_TypeOfData</th>\n",
       "      <th>RETIRED_CurveDescription</th>\n",
       "      <th>RETIRED_DataValueRepresentation</th>\n",
       "      <th>RETIRED_CurveData</th>\n",
       "      <th>SmallestPixelValueInSeries</th>\n",
       "      <th>LargestPixelValueInSeries</th>\n",
       "      <th>ScanArc</th>\n",
       "      <th>RouteOfAdmissions</th>\n",
       "    </tr>\n",
       "  </thead>\n",
       "  <tbody>\n",
       "    <tr>\n",
       "      <th>1692</th>\n",
       "      <td>B1</td>\n",
       "      <td>NaN</td>\n",
       "      <td>NaN</td>\n",
       "      <td>1.3.12.2.1107.5.1.4.14405302048733134033500556...</td>\n",
       "      <td>CT BRAIN WO CONTRAST (70450)</td>\n",
       "      <td>2021-08-26</td>\n",
       "      <td>1.3.12.2.1107.5.1.4.30448595353741225300805509...</td>\n",
       "      <td>Helical_Head_5_0_H41s</td>\n",
       "      <td>SIEMENS</td>\n",
       "      <td>27</td>\n",
       "      <td>...</td>\n",
       "      <td>NaN</td>\n",
       "      <td>NaN</td>\n",
       "      <td>NaN</td>\n",
       "      <td>NaN</td>\n",
       "      <td>NaN</td>\n",
       "      <td>NaN</td>\n",
       "      <td>NaN</td>\n",
       "      <td>NaN</td>\n",
       "      <td>NaN</td>\n",
       "      <td>NaN</td>\n",
       "    </tr>\n",
       "    <tr>\n",
       "      <th>1522</th>\n",
       "      <td>B10</td>\n",
       "      <td>NaN</td>\n",
       "      <td>NaN</td>\n",
       "      <td>1.3.12.2.1107.5.1.4.29464022356853068835595950...</td>\n",
       "      <td>CT BRAIN WO CONTRAST (70450)</td>\n",
       "      <td>2021-08-26</td>\n",
       "      <td>1.3.12.2.1107.5.1.4.20640263391473193003119895...</td>\n",
       "      <td>Head__5_0__H41s</td>\n",
       "      <td>SIEMENS</td>\n",
       "      <td>27</td>\n",
       "      <td>...</td>\n",
       "      <td>NaN</td>\n",
       "      <td>NaN</td>\n",
       "      <td>NaN</td>\n",
       "      <td>NaN</td>\n",
       "      <td>NaN</td>\n",
       "      <td>NaN</td>\n",
       "      <td>NaN</td>\n",
       "      <td>NaN</td>\n",
       "      <td>NaN</td>\n",
       "      <td>NaN</td>\n",
       "    </tr>\n",
       "    <tr>\n",
       "      <th>1529</th>\n",
       "      <td>B11</td>\n",
       "      <td>NaN</td>\n",
       "      <td>NaN</td>\n",
       "      <td>1.3.12.2.1107.5.1.4.70920213018646500067184273...</td>\n",
       "      <td>CT BRAIN WO CONTRAST (70450)</td>\n",
       "      <td>2021-08-26</td>\n",
       "      <td>1.3.12.2.1107.5.1.4.15768733593244333268036332...</td>\n",
       "      <td>Head__5_0__J37s__1</td>\n",
       "      <td>SIEMENS</td>\n",
       "      <td>29</td>\n",
       "      <td>...</td>\n",
       "      <td>NaN</td>\n",
       "      <td>NaN</td>\n",
       "      <td>NaN</td>\n",
       "      <td>NaN</td>\n",
       "      <td>NaN</td>\n",
       "      <td>NaN</td>\n",
       "      <td>NaN</td>\n",
       "      <td>NaN</td>\n",
       "      <td>NaN</td>\n",
       "      <td>NaN</td>\n",
       "    </tr>\n",
       "    <tr>\n",
       "      <th>1574</th>\n",
       "      <td>B12</td>\n",
       "      <td>NaN</td>\n",
       "      <td>NaN</td>\n",
       "      <td>1.3.12.2.1107.5.1.4.88283879956991102502385177...</td>\n",
       "      <td>CT BRAIN WO CONTRAST (70450)</td>\n",
       "      <td>2021-08-26</td>\n",
       "      <td>1.3.12.2.1107.5.1.4.27610016466863260409541068...</td>\n",
       "      <td>Helical_Head_5_0_H41s</td>\n",
       "      <td>SIEMENS</td>\n",
       "      <td>35</td>\n",
       "      <td>...</td>\n",
       "      <td>NaN</td>\n",
       "      <td>NaN</td>\n",
       "      <td>NaN</td>\n",
       "      <td>NaN</td>\n",
       "      <td>NaN</td>\n",
       "      <td>NaN</td>\n",
       "      <td>NaN</td>\n",
       "      <td>NaN</td>\n",
       "      <td>NaN</td>\n",
       "      <td>NaN</td>\n",
       "    </tr>\n",
       "    <tr>\n",
       "      <th>1587</th>\n",
       "      <td>B16</td>\n",
       "      <td>NaN</td>\n",
       "      <td>NaN</td>\n",
       "      <td>1.3.12.2.1107.5.1.4.13870762043879883155821812...</td>\n",
       "      <td>CT BRAIN WO CONTRAST (70450)</td>\n",
       "      <td>2021-08-26</td>\n",
       "      <td>1.3.12.2.1107.5.1.4.62898310134561535724386666...</td>\n",
       "      <td>Head__5_0__H41s</td>\n",
       "      <td>SIEMENS</td>\n",
       "      <td>30</td>\n",
       "      <td>...</td>\n",
       "      <td>NaN</td>\n",
       "      <td>NaN</td>\n",
       "      <td>NaN</td>\n",
       "      <td>NaN</td>\n",
       "      <td>NaN</td>\n",
       "      <td>NaN</td>\n",
       "      <td>NaN</td>\n",
       "      <td>NaN</td>\n",
       "      <td>NaN</td>\n",
       "      <td>NaN</td>\n",
       "    </tr>\n",
       "    <tr>\n",
       "      <th>...</th>\n",
       "      <td>...</td>\n",
       "      <td>...</td>\n",
       "      <td>...</td>\n",
       "      <td>...</td>\n",
       "      <td>...</td>\n",
       "      <td>...</td>\n",
       "      <td>...</td>\n",
       "      <td>...</td>\n",
       "      <td>...</td>\n",
       "      <td>...</td>\n",
       "      <td>...</td>\n",
       "      <td>...</td>\n",
       "      <td>...</td>\n",
       "      <td>...</td>\n",
       "      <td>...</td>\n",
       "      <td>...</td>\n",
       "      <td>...</td>\n",
       "      <td>...</td>\n",
       "      <td>...</td>\n",
       "      <td>...</td>\n",
       "      <td>...</td>\n",
       "    </tr>\n",
       "    <tr>\n",
       "      <th>1480</th>\n",
       "      <td>X95</td>\n",
       "      <td>NaN</td>\n",
       "      <td>NaN</td>\n",
       "      <td>1.3.12.2.1107.5.1.4.26319050177286294006301705...</td>\n",
       "      <td>CT BRAIN WO CONTRAST (70450)</td>\n",
       "      <td>2022-04-08</td>\n",
       "      <td>1.3.12.2.1107.5.1.4.27907423437829554333475568...</td>\n",
       "      <td>Head__5_0__J37s__1</td>\n",
       "      <td>SIEMENS</td>\n",
       "      <td>31</td>\n",
       "      <td>...</td>\n",
       "      <td>NaN</td>\n",
       "      <td>NaN</td>\n",
       "      <td>NaN</td>\n",
       "      <td>NaN</td>\n",
       "      <td>NaN</td>\n",
       "      <td>NaN</td>\n",
       "      <td>NaN</td>\n",
       "      <td>NaN</td>\n",
       "      <td>NaN</td>\n",
       "      <td>NaN</td>\n",
       "    </tr>\n",
       "    <tr>\n",
       "      <th>1487</th>\n",
       "      <td>X96</td>\n",
       "      <td>NaN</td>\n",
       "      <td>NaN</td>\n",
       "      <td>1.3.12.2.1107.5.1.4.12507122691666544533153812...</td>\n",
       "      <td>CT BRAIN WO CONTRAST (70450)</td>\n",
       "      <td>2022-04-08</td>\n",
       "      <td>1.3.12.2.1107.5.1.4.29888479019532550615118662...</td>\n",
       "      <td>Head__5_0__J37s__1</td>\n",
       "      <td>SIEMENS</td>\n",
       "      <td>29</td>\n",
       "      <td>...</td>\n",
       "      <td>NaN</td>\n",
       "      <td>NaN</td>\n",
       "      <td>NaN</td>\n",
       "      <td>NaN</td>\n",
       "      <td>NaN</td>\n",
       "      <td>NaN</td>\n",
       "      <td>NaN</td>\n",
       "      <td>NaN</td>\n",
       "      <td>NaN</td>\n",
       "      <td>NaN</td>\n",
       "    </tr>\n",
       "    <tr>\n",
       "      <th>1494</th>\n",
       "      <td>X97</td>\n",
       "      <td>NaN</td>\n",
       "      <td>NaN</td>\n",
       "      <td>1.3.12.2.1107.5.1.4.13914201967155211402798295...</td>\n",
       "      <td>CT BRAIN WO CONTRAST (70450)</td>\n",
       "      <td>2022-04-08</td>\n",
       "      <td>1.3.12.2.1107.5.1.4.30228923740216220470631103...</td>\n",
       "      <td>Head__5_0__J37s__1</td>\n",
       "      <td>SIEMENS</td>\n",
       "      <td>34</td>\n",
       "      <td>...</td>\n",
       "      <td>NaN</td>\n",
       "      <td>NaN</td>\n",
       "      <td>NaN</td>\n",
       "      <td>NaN</td>\n",
       "      <td>NaN</td>\n",
       "      <td>NaN</td>\n",
       "      <td>NaN</td>\n",
       "      <td>NaN</td>\n",
       "      <td>NaN</td>\n",
       "      <td>NaN</td>\n",
       "    </tr>\n",
       "    <tr>\n",
       "      <th>1501</th>\n",
       "      <td>X98</td>\n",
       "      <td>NaN</td>\n",
       "      <td>NaN</td>\n",
       "      <td>1.3.12.2.1107.5.1.4.23522342991385706872830884...</td>\n",
       "      <td>CT BRAIN WO CONTRAST (70450)</td>\n",
       "      <td>2022-04-08</td>\n",
       "      <td>1.3.12.2.1107.5.1.4.33143356651252513156010292...</td>\n",
       "      <td>Head__5_0__J37s__1</td>\n",
       "      <td>SIEMENS</td>\n",
       "      <td>35</td>\n",
       "      <td>...</td>\n",
       "      <td>NaN</td>\n",
       "      <td>NaN</td>\n",
       "      <td>NaN</td>\n",
       "      <td>NaN</td>\n",
       "      <td>NaN</td>\n",
       "      <td>NaN</td>\n",
       "      <td>NaN</td>\n",
       "      <td>NaN</td>\n",
       "      <td>NaN</td>\n",
       "      <td>NaN</td>\n",
       "    </tr>\n",
       "    <tr>\n",
       "      <th>1508</th>\n",
       "      <td>X99</td>\n",
       "      <td>NaN</td>\n",
       "      <td>NaN</td>\n",
       "      <td>1.3.12.2.1107.5.1.4.68870478804978935972917766...</td>\n",
       "      <td>CT BRAIN WO CONTRAST (70450)</td>\n",
       "      <td>2022-04-08</td>\n",
       "      <td>1.3.12.2.1107.5.1.4.14768867219474482890867765...</td>\n",
       "      <td>Head__5_0__Hc40__2</td>\n",
       "      <td>SIEMENS</td>\n",
       "      <td>27</td>\n",
       "      <td>...</td>\n",
       "      <td>NaN</td>\n",
       "      <td>NaN</td>\n",
       "      <td>NaN</td>\n",
       "      <td>NaN</td>\n",
       "      <td>NaN</td>\n",
       "      <td>NaN</td>\n",
       "      <td>NaN</td>\n",
       "      <td>NaN</td>\n",
       "      <td>NaN</td>\n",
       "      <td>NaN</td>\n",
       "    </tr>\n",
       "  </tbody>\n",
       "</table>\n",
       "<p>323 rows × 206 columns</p>\n",
       "</div>"
      ],
      "text/plain": [
       "     PatientID  PatientSex  PatientBirthDate  \\\n",
       "1692        B1         NaN               NaN   \n",
       "1522       B10         NaN               NaN   \n",
       "1529       B11         NaN               NaN   \n",
       "1574       B12         NaN               NaN   \n",
       "1587       B16         NaN               NaN   \n",
       "...        ...         ...               ...   \n",
       "1480       X95         NaN               NaN   \n",
       "1487       X96         NaN               NaN   \n",
       "1494       X97         NaN               NaN   \n",
       "1501       X98         NaN               NaN   \n",
       "1508       X99         NaN               NaN   \n",
       "\n",
       "                                       StudyInstanceUID  \\\n",
       "1692  1.3.12.2.1107.5.1.4.14405302048733134033500556...   \n",
       "1522  1.3.12.2.1107.5.1.4.29464022356853068835595950...   \n",
       "1529  1.3.12.2.1107.5.1.4.70920213018646500067184273...   \n",
       "1574  1.3.12.2.1107.5.1.4.88283879956991102502385177...   \n",
       "1587  1.3.12.2.1107.5.1.4.13870762043879883155821812...   \n",
       "...                                                 ...   \n",
       "1480  1.3.12.2.1107.5.1.4.26319050177286294006301705...   \n",
       "1487  1.3.12.2.1107.5.1.4.12507122691666544533153812...   \n",
       "1494  1.3.12.2.1107.5.1.4.13914201967155211402798295...   \n",
       "1501  1.3.12.2.1107.5.1.4.23522342991385706872830884...   \n",
       "1508  1.3.12.2.1107.5.1.4.68870478804978935972917766...   \n",
       "\n",
       "                  StudyDescription  StudyDate  \\\n",
       "1692  CT BRAIN WO CONTRAST (70450) 2021-08-26   \n",
       "1522  CT BRAIN WO CONTRAST (70450) 2021-08-26   \n",
       "1529  CT BRAIN WO CONTRAST (70450) 2021-08-26   \n",
       "1574  CT BRAIN WO CONTRAST (70450) 2021-08-26   \n",
       "1587  CT BRAIN WO CONTRAST (70450) 2021-08-26   \n",
       "...                            ...        ...   \n",
       "1480  CT BRAIN WO CONTRAST (70450) 2022-04-08   \n",
       "1487  CT BRAIN WO CONTRAST (70450) 2022-04-08   \n",
       "1494  CT BRAIN WO CONTRAST (70450) 2022-04-08   \n",
       "1501  CT BRAIN WO CONTRAST (70450) 2022-04-08   \n",
       "1508  CT BRAIN WO CONTRAST (70450) 2022-04-08   \n",
       "\n",
       "                                      SeriesInstanceUID  \\\n",
       "1692  1.3.12.2.1107.5.1.4.30448595353741225300805509...   \n",
       "1522  1.3.12.2.1107.5.1.4.20640263391473193003119895...   \n",
       "1529  1.3.12.2.1107.5.1.4.15768733593244333268036332...   \n",
       "1574  1.3.12.2.1107.5.1.4.27610016466863260409541068...   \n",
       "1587  1.3.12.2.1107.5.1.4.62898310134561535724386666...   \n",
       "...                                                 ...   \n",
       "1480  1.3.12.2.1107.5.1.4.27907423437829554333475568...   \n",
       "1487  1.3.12.2.1107.5.1.4.29888479019532550615118662...   \n",
       "1494  1.3.12.2.1107.5.1.4.30228923740216220470631103...   \n",
       "1501  1.3.12.2.1107.5.1.4.33143356651252513156010292...   \n",
       "1508  1.3.12.2.1107.5.1.4.14768867219474482890867765...   \n",
       "\n",
       "          SeriesDescription Manufacturer  Instances  ...  \\\n",
       "1692  Helical_Head_5_0_H41s      SIEMENS         27  ...   \n",
       "1522        Head__5_0__H41s      SIEMENS         27  ...   \n",
       "1529     Head__5_0__J37s__1      SIEMENS         29  ...   \n",
       "1574  Helical_Head_5_0_H41s      SIEMENS         35  ...   \n",
       "1587        Head__5_0__H41s      SIEMENS         30  ...   \n",
       "...                     ...          ...        ...  ...   \n",
       "1480     Head__5_0__J37s__1      SIEMENS         31  ...   \n",
       "1487     Head__5_0__J37s__1      SIEMENS         29  ...   \n",
       "1494     Head__5_0__J37s__1      SIEMENS         34  ...   \n",
       "1501     Head__5_0__J37s__1      SIEMENS         35  ...   \n",
       "1508     Head__5_0__Hc40__2      SIEMENS         27  ...   \n",
       "\n",
       "     RETIRED_CurveDimensions  RETIRED_NumberOfPoints  RETIRED_TypeOfData  \\\n",
       "1692                     NaN                     NaN                 NaN   \n",
       "1522                     NaN                     NaN                 NaN   \n",
       "1529                     NaN                     NaN                 NaN   \n",
       "1574                     NaN                     NaN                 NaN   \n",
       "1587                     NaN                     NaN                 NaN   \n",
       "...                      ...                     ...                 ...   \n",
       "1480                     NaN                     NaN                 NaN   \n",
       "1487                     NaN                     NaN                 NaN   \n",
       "1494                     NaN                     NaN                 NaN   \n",
       "1501                     NaN                     NaN                 NaN   \n",
       "1508                     NaN                     NaN                 NaN   \n",
       "\n",
       "      RETIRED_CurveDescription RETIRED_DataValueRepresentation  \\\n",
       "1692                       NaN                             NaN   \n",
       "1522                       NaN                             NaN   \n",
       "1529                       NaN                             NaN   \n",
       "1574                       NaN                             NaN   \n",
       "1587                       NaN                             NaN   \n",
       "...                        ...                             ...   \n",
       "1480                       NaN                             NaN   \n",
       "1487                       NaN                             NaN   \n",
       "1494                       NaN                             NaN   \n",
       "1501                       NaN                             NaN   \n",
       "1508                       NaN                             NaN   \n",
       "\n",
       "     RETIRED_CurveData  SmallestPixelValueInSeries LargestPixelValueInSeries  \\\n",
       "1692               NaN                         NaN                       NaN   \n",
       "1522               NaN                         NaN                       NaN   \n",
       "1529               NaN                         NaN                       NaN   \n",
       "1574               NaN                         NaN                       NaN   \n",
       "1587               NaN                         NaN                       NaN   \n",
       "...                ...                         ...                       ...   \n",
       "1480               NaN                         NaN                       NaN   \n",
       "1487               NaN                         NaN                       NaN   \n",
       "1494               NaN                         NaN                       NaN   \n",
       "1501               NaN                         NaN                       NaN   \n",
       "1508               NaN                         NaN                       NaN   \n",
       "\n",
       "      ScanArc RouteOfAdmissions  \n",
       "1692      NaN               NaN  \n",
       "1522      NaN               NaN  \n",
       "1529      NaN               NaN  \n",
       "1574      NaN               NaN  \n",
       "1587      NaN               NaN  \n",
       "...       ...               ...  \n",
       "1480      NaN               NaN  \n",
       "1487      NaN               NaN  \n",
       "1494      NaN               NaN  \n",
       "1501      NaN               NaN  \n",
       "1508      NaN               NaN  \n",
       "\n",
       "[323 rows x 206 columns]"
      ]
     },
     "execution_count": 18,
     "metadata": {},
     "output_type": "execute_result"
    }
   ],
   "source": [
    "# Convert 'StudyDate' to datetime format\n",
    "df_filtered['StudyDate'] = pd.to_datetime(df_filtered['StudyDate'], format='%Y%m%d')\n",
    "\n",
    "# Sort by 'PatientID' and 'StudyDate'\n",
    "df_sorted = df_filtered.sort_values(by=['PatientID','StudyDate'])\n",
    "\n",
    "# Drop duplicates to get the first 'StudyDate'\n",
    "df = df_sorted.drop_duplicates(subset='PatientID', keep='first')\n",
    "\n",
    "df"
   ]
  },
  {
   "cell_type": "code",
   "execution_count": 19,
   "metadata": {
    "ExecuteTime": {
     "end_time": "2024-10-13T11:13:58.150106Z",
     "start_time": "2024-10-13T11:13:58.148086Z"
    }
   },
   "outputs": [
    {
     "name": "stdout",
     "output_type": "stream",
     "text": [
      "Number of patients: 323\n"
     ]
    }
   ],
   "source": [
    "# check the number of patients\n",
    "n_patients=df['PatientID'].nunique()\n",
    "print(f'Number of patients: {n_patients}')"
   ]
  },
  {
   "cell_type": "markdown",
   "metadata": {},
   "source": [
    "## Part 2"
   ]
  },
  {
   "cell_type": "markdown",
   "metadata": {},
   "source": [
    "### Models analysis"
   ]
  },
  {
   "cell_type": "code",
   "execution_count": 20,
   "metadata": {
    "ExecuteTime": {
     "end_time": "2024-10-13T11:13:58.158634Z",
     "start_time": "2024-10-13T11:13:58.153012Z"
    }
   },
   "outputs": [
    {
     "data": {
      "text/html": [
       "<div>\n",
       "<style scoped>\n",
       "    .dataframe tbody tr th:only-of-type {\n",
       "        vertical-align: middle;\n",
       "    }\n",
       "\n",
       "    .dataframe tbody tr th {\n",
       "        vertical-align: top;\n",
       "    }\n",
       "\n",
       "    .dataframe thead th {\n",
       "        text-align: right;\n",
       "    }\n",
       "</style>\n",
       "<table border=\"1\" class=\"dataframe\">\n",
       "  <thead>\n",
       "    <tr style=\"text-align: right;\">\n",
       "      <th></th>\n",
       "      <th>Patient_name</th>\n",
       "      <th>Model_1</th>\n",
       "      <th>Model_2</th>\n",
       "      <th>Ground_truth</th>\n",
       "    </tr>\n",
       "  </thead>\n",
       "  <tbody>\n",
       "    <tr>\n",
       "      <th>0</th>\n",
       "      <td>X77</td>\n",
       "      <td>0.374540</td>\n",
       "      <td>0.969585</td>\n",
       "      <td>0</td>\n",
       "    </tr>\n",
       "    <tr>\n",
       "      <th>1</th>\n",
       "      <td>X3</td>\n",
       "      <td>0.950714</td>\n",
       "      <td>0.775133</td>\n",
       "      <td>1</td>\n",
       "    </tr>\n",
       "    <tr>\n",
       "      <th>2</th>\n",
       "      <td>X99</td>\n",
       "      <td>0.731994</td>\n",
       "      <td>0.939499</td>\n",
       "      <td>0</td>\n",
       "    </tr>\n",
       "    <tr>\n",
       "      <th>3</th>\n",
       "      <td>K18</td>\n",
       "      <td>0.598658</td>\n",
       "      <td>0.894827</td>\n",
       "      <td>0</td>\n",
       "    </tr>\n",
       "    <tr>\n",
       "      <th>4</th>\n",
       "      <td>X13</td>\n",
       "      <td>0.156019</td>\n",
       "      <td>0.597900</td>\n",
       "      <td>1</td>\n",
       "    </tr>\n",
       "  </tbody>\n",
       "</table>\n",
       "</div>"
      ],
      "text/plain": [
       "  Patient_name   Model_1   Model_2  Ground_truth\n",
       "0          X77  0.374540  0.969585             0\n",
       "1           X3  0.950714  0.775133             1\n",
       "2          X99  0.731994  0.939499             0\n",
       "3          K18  0.598658  0.894827             0\n",
       "4          X13  0.156019  0.597900             1"
      ]
     },
     "execution_count": 20,
     "metadata": {},
     "output_type": "execute_result"
    }
   ],
   "source": [
    "df=pd.read_csv('/Users/juliaromagosa/Downloads/part2_inferences.csv')\n",
    "df.head()"
   ]
  },
  {
   "cell_type": "markdown",
   "metadata": {},
   "source": [
    "**1. Compute AUROC (Area Under the ROC Curve) of Model_1 and Model_2 and select the one with a higher AUROC.**"
   ]
  },
  {
   "cell_type": "code",
   "execution_count": 21,
   "metadata": {
    "ExecuteTime": {
     "end_time": "2024-10-13T11:13:58.164252Z",
     "start_time": "2024-10-13T11:13:58.159587Z"
    }
   },
   "outputs": [
    {
     "name": "stdout",
     "output_type": "stream",
     "text": [
      "Best Model_1 AUROC: 0.5096153846153846\n"
     ]
    }
   ],
   "source": [
    "# Get pred and true values\n",
    "y_model1 = df['Model_1']\n",
    "y_model2 = df['Model_2']\n",
    "y_true = df['Ground_truth']\n",
    "\n",
    "# Calculate AUROC\n",
    "auroc_model1 = metrics.roc_auc_score(y_true, y_model1)\n",
    "auroc_model2 = metrics.roc_auc_score(y_true, y_model2)\n",
    "\n",
    "# Get AUROC higher\n",
    "if auroc_model1 > auroc_model2:\n",
    "    model = 'Model_1'\n",
    "    y_model=y_model1\n",
    "    best_auroc = auroc_model1\n",
    "else:\n",
    "    model = 'Model_2'\n",
    "    y_model=y_model2\n",
    "    best_auroc = auroc_model2\n",
    "\n",
    "print(f\"Best {model} AUROC: {best_auroc}\")"
   ]
  },
  {
   "cell_type": "markdown",
   "metadata": {},
   "source": [
    "**2. Compute sensitivity and specificity with these thresholds: [0.3, 0.5, 0.7, 0.9]. Select the threshold that results in a specificity of around 80%.**"
   ]
  },
  {
   "cell_type": "code",
   "execution_count": 22,
   "metadata": {
    "ExecuteTime": {
     "end_time": "2024-10-13T11:13:58.170288Z",
     "start_time": "2024-10-13T11:13:58.165131Z"
    }
   },
   "outputs": [
    {
     "name": "stdout",
     "output_type": "stream",
     "text": [
      "Threshold: 0.3\n",
      "Model - Sensitivity: 0.6666666666666666, Specificity: 0.4230769230769231\n",
      "Threshold: 0.5\n",
      "Model - Sensitivity: 0.4166666666666667, Specificity: 0.5384615384615384\n",
      "Threshold: 0.7\n",
      "Model - Sensitivity: 0.25, Specificity: 0.8076923076923077\n",
      "Threshold: 0.9\n",
      "Model - Sensitivity: 0.125, Specificity: 0.9230769230769231\n"
     ]
    }
   ],
   "source": [
    "thresholds = [0.3, 0.5, 0.7, 0.9]\n",
    "specificities={}\n",
    "\n",
    "for thr in thresholds:\n",
    "    y_pred_binary = [1 if pred >= thr else 0 for pred in y_model]\n",
    "\n",
    "    # Calculate sensitivity and specificity for model \n",
    "    tn, fp, fn, tp = metrics.confusion_matrix(y_true, y_pred_binary).ravel()\n",
    "    sensitivity = tp / (tp + fn)\n",
    "    specificity= tn / (tn + fp)\n",
    "    \n",
    "    # Save specificity for thr\n",
    "    specificities[thr]=specificity\n",
    "    \n",
    "    print(f\"Threshold: {thr}\")\n",
    "    print(f\"Model - Sensitivity: {sensitivity}, Specificity: {specificity}\")\n"
   ]
  },
  {
   "cell_type": "code",
   "execution_count": 23,
   "metadata": {
    "ExecuteTime": {
     "end_time": "2024-10-13T11:13:58.173314Z",
     "start_time": "2024-10-13T11:13:58.171175Z"
    }
   },
   "outputs": [
    {
     "name": "stdout",
     "output_type": "stream",
     "text": [
      "Closest threshold to 80% is 0.7 with a specificity of 0.8076923076923077\n"
     ]
    }
   ],
   "source": [
    "# Target sensitivity\n",
    "target_value = 0.80\n",
    "closest_threshold = min(specificities, key=lambda x: abs(specificities[x] - target_value))\n",
    "print(f\"Closest threshold to 80% is {closest_threshold} with a specificity of {specificities[closest_threshold]}\")\n",
    "y_pred_binary = [1 if pred >= closest_threshold else 0 for pred in y_model]"
   ]
  },
  {
   "cell_type": "code",
   "execution_count": 24,
   "metadata": {
    "ExecuteTime": {
     "end_time": "2024-10-13T11:13:58.309883Z",
     "start_time": "2024-10-13T11:13:58.174383Z"
    }
   },
   "outputs": [
    {
     "data": {
      "image/png": "[encoded data removed]",
      "text/plain": [
       "<Figure size 432x288 with 2 Axes>"
      ]
     },
     "metadata": {
      "needs_background": "light"
     },
     "output_type": "display_data"
    }
   ],
   "source": [
    "cm = confusion_matrix(y_true, y_pred_binary)\n",
    "disp = ConfusionMatrixDisplay(confusion_matrix=cm)\n",
    "disp.plot(cmap='Blues')\n",
    "plt.title('Confusion Matrix')\n",
    "plt.show()"
   ]
  },
  {
   "cell_type": "markdown",
   "metadata": {},
   "source": [
    "**3. Select the False Negative patients obtained with the selected threshold in the\n",
    "previous step**"
   ]
  },
  {
   "cell_type": "code",
   "execution_count": 25,
   "metadata": {
    "ExecuteTime": {
     "end_time": "2024-10-13T11:13:58.315251Z",
     "start_time": "2024-10-13T11:13:58.311554Z"
    }
   },
   "outputs": [
    {
     "name": "stdout",
     "output_type": "stream",
     "text": [
      "['X13' 'D7' 'D20' 'X34' 'K32' 'K51' 'G12' 'E76' 'K7' 'X17' 'B27' 'K67'\n",
      " 'E15' 'K3' 'X69' 'G121' 'G136' 'G116']\n"
     ]
    }
   ],
   "source": [
    "df['y_pred_binary']=y_pred_binary\n",
    "\n",
    "# False negatives y_pred=0 ; y_true=1\n",
    "false_negatives = df[(df['Ground_truth'] == 1) & (df['y_pred_binary'] == 0)]\n",
    "\n",
    "# Get the 'Patient_name' or 'Patient_ID' of the false negatives\n",
    "patient_ids = false_negatives['Patient_name']\n",
    "\n",
    "print(patient_ids.values)"
   ]
  },
  {
   "cell_type": "markdown",
   "metadata": {},
   "source": [
    "### Inspect misclassified images"
   ]
  },
  {
   "cell_type": "markdown",
   "metadata": {},
   "source": [
    "**1. Compute the image histogram. You should see that two patients have something\n",
    "weird in the histogram, identify them**"
   ]
  },
  {
   "cell_type": "code",
   "execution_count": 26,
   "metadata": {
    "ExecuteTime": {
     "end_time": "2024-10-13T11:13:58.319840Z",
     "start_time": "2024-10-13T11:13:58.316433Z"
    }
   },
   "outputs": [
    {
     "name": "stdout",
     "output_type": "stream",
     "text": [
      "/Users/juliaromagosa/Downloads/imgs/X99.nii.gz\n",
      "/Users/juliaromagosa/Downloads/imgs/K91.nii.gz\n",
      "/Users/juliaromagosa/Downloads/imgs/G66.nii.gz\n",
      "/Users/juliaromagosa/Downloads/imgs/E139.nii.gz\n",
      "/Users/juliaromagosa/Downloads/imgs/G30.nii.gz\n"
     ]
    }
   ],
   "source": [
    "images_path='/Users/juliaromagosa/Downloads/imgs'\n",
    "nifti_files = []\n",
    "patient_names=[]\n",
    "for root, dirs, files in os.walk(images_path):\n",
    "    for file in files:\n",
    "        if file.endswith('.nii.gz'):\n",
    "            nifti_files.append(os.path.join(root, file))\n",
    "            patient_names.append(file[:-7])\n",
    "\n",
    "for file in nifti_files:\n",
    "    print(file)"
   ]
  },
  {
   "cell_type": "code",
   "execution_count": 27,
   "metadata": {
    "ExecuteTime": {
     "end_time": "2024-10-13T11:13:59.793647Z",
     "start_time": "2024-10-13T11:13:58.320800Z"
    },
    "scrolled": false
   },
   "outputs": [
    {
     "data": {
      "image/png": "[encoded data removed]",
      "text/plain": [
       "<Figure size 1080x720 with 5 Axes>"
      ]
     },
     "metadata": {
      "needs_background": "light"
     },
     "output_type": "display_data"
    }
   ],
   "source": [
    "# Plot histograms\n",
    "cols = 3  \n",
    "rows = (len(nifti_files) + cols - 1) // cols  \n",
    "\n",
    "fig, axs = plt.subplots(rows, cols, figsize=(15, 5 * rows))\n",
    "\n",
    "axs = axs.ravel()\n",
    "\n",
    "for i in range(len(nifti_files)):\n",
    "    itk_image = sitk.ReadImage(nifti_files[i])\n",
    "    image_array = sitk.GetArrayFromImage(itk_image)\n",
    "    \n",
    "    # Plot the histogram in the corresponding subplot\n",
    "    axs[i].hist(image_array.ravel(), bins=100, color='blue')\n",
    "    axs[i].set_title(f'Histogram of {patient_names[i]}')\n",
    "    axs[i].set_xlabel('Pixel Intensity')\n",
    "    axs[i].set_ylabel('Frequency')\n",
    "\n",
    "# Remove unused subplots \n",
    "for j in range(i + 1, len(axs)):\n",
    "    fig.delaxes(axs[j])\n",
    "\n",
    "# Adjust the layout and show the plot\n",
    "plt.tight_layout()\n",
    "plt.show()"
   ]
  },
  {
   "cell_type": "markdown",
   "metadata": {},
   "source": [
    "Images with different histograms are:\n",
    "- **E139:** it does have lower peak intensities compared to the others. It has a higer peak in intensity -3000, meaning there are more black pixels.\n",
    "- **G30:** the intensity peaks are at different intensities compared to the others. It seems they are displaced by 1000."
   ]
  },
  {
   "cell_type": "markdown",
   "metadata": {},
   "source": [
    "First we'll plot the histogram of one of the \"normal\" images."
   ]
  },
  {
   "cell_type": "code",
   "execution_count": 28,
   "metadata": {
    "ExecuteTime": {
     "end_time": "2024-10-13T11:13:59.798454Z",
     "start_time": "2024-10-13T11:13:59.795087Z"
    }
   },
   "outputs": [],
   "source": [
    "masks_path='/Users/juliaromagosa/Downloads/masks'\n",
    "masks_files = []\n",
    "for root, dirs, files in os.walk(masks_path):\n",
    "    for file in files:\n",
    "        if file.endswith('.nii.gz'):\n",
    "            masks_files.append(os.path.join(root, file))"
   ]
  },
  {
   "cell_type": "code",
   "execution_count": 29,
   "metadata": {
    "ExecuteTime": {
     "end_time": "2024-10-13T11:14:00.141254Z",
     "start_time": "2024-10-13T11:13:59.799452Z"
    }
   },
   "outputs": [
    {
     "data": {
      "image/png": "[encoded data removed]",
      "text/plain": [
       "<Figure size 864x432 with 4 Axes>"
      ]
     },
     "metadata": {
      "needs_background": "light"
     },
     "output_type": "display_data"
    }
   ],
   "source": [
    "image_path = '/Users/juliaromagosa/Downloads/imgs/X99.nii.gz'\n",
    "mask_path = '/Users/juliaromagosa/Downloads/masks/X99_mask.nii.gz'\n",
    "\n",
    "# Read the images\n",
    "image_array = sitk.GetArrayFromImage(sitk.ReadImage(image_path))\n",
    "mask_array = sitk.GetArrayFromImage(sitk.ReadImage(mask_path))\n",
    "masked_image = np.where(mask_array == 0, -1000, image_array)\n",
    "\n",
    "fig, axs = plt.subplots(1, 2, figsize=(12, 6))\n",
    "slice_index=image_array.shape[0]//2\n",
    "\n",
    "# Display the original image slice\n",
    "im1 = axs[0].imshow(image_array[slice_index, :, :], cmap='gray',vmin=-1000,vmax=1000)\n",
    "axs[0].set_title(f'Original Image Slice {slice_index}')\n",
    "axs[0].axis('off')\n",
    "plt.colorbar(im1, ax=axs[0])\n",
    "\n",
    "# Display the masked image slice\n",
    "im2 = axs[1].imshow(masked_image[slice_index, :, :], cmap='gray',vmin=-1000,vmax=1000)\n",
    "axs[1].set_title(f'Masked Image Slice {slice_index}')\n",
    "axs[1].axis('off')\n",
    "plt.colorbar(im2, ax=axs[1])\n",
    "\n",
    "plt.tight_layout()\n",
    "plt.show()\n"
   ]
  },
  {
   "cell_type": "markdown",
   "metadata": {},
   "source": [
    "The information is contained between -1000 and 1000, approximately."
   ]
  },
  {
   "cell_type": "code",
   "execution_count": 30,
   "metadata": {
    "ExecuteTime": {
     "end_time": "2024-10-13T11:14:00.500963Z",
     "start_time": "2024-10-13T11:14:00.142288Z"
    }
   },
   "outputs": [
    {
     "data": {
      "image/png": "[encoded data removed]",
      "text/plain": [
       "<Figure size 864x432 with 4 Axes>"
      ]
     },
     "metadata": {
      "needs_background": "light"
     },
     "output_type": "display_data"
    }
   ],
   "source": [
    "image_path = '/Users/juliaromagosa/Downloads/imgs/G30.nii.gz'\n",
    "mask_path = '/Users/juliaromagosa/Downloads/masks/G30_mask.nii.gz'\n",
    "\n",
    "# Read the images\n",
    "image_array = sitk.GetArrayFromImage(sitk.ReadImage(image_path))\n",
    "mask_array = sitk.GetArrayFromImage(sitk.ReadImage(mask_path))\n",
    "masked_image=image_array*mask_array\n",
    "\n",
    "fig, axs = plt.subplots(1, 2, figsize=(12, 6))\n",
    "slice_index=image_array.shape[0]//2\n",
    "\n",
    "# Display the original image slice\n",
    "im1 = axs[0].imshow(image_array[slice_index, :, :], cmap='gray',vmin=1000)\n",
    "axs[0].set_title(f'Original Image Slice {slice_index}')\n",
    "axs[0].axis('off')\n",
    "plt.colorbar(im1, ax=axs[0])\n",
    "\n",
    "# Display the masked image slice\n",
    "im2 = axs[1].imshow(masked_image[slice_index, :, :], cmap='gray',vmin=1000)\n",
    "axs[1].set_title(f'Masked Image Slice {slice_index}')\n",
    "axs[1].axis('off')\n",
    "plt.colorbar(im2, ax=axs[1])\n",
    "\n",
    "# Show the plots\n",
    "plt.tight_layout()\n",
    "plt.show()\n"
   ]
  },
  {
   "cell_type": "markdown",
   "metadata": {},
   "source": [
    "In the G30 image, the pixels representing black have an intensity value of -1000, while in the other histograms, the black regions have an intensity of -3000. The background intensity in this image is 1000, with the relevant information lying between 1000 and 4000. Hence, the intensity range is different in this image and these discrepancies can lead the algorithm to fail. To address this, preprocessing normalizing techniques like histogram matching should be applied to ensure that all images have similar intensity distributions."
   ]
  },
  {
   "cell_type": "code",
   "execution_count": 31,
   "metadata": {
    "ExecuteTime": {
     "end_time": "2024-10-13T11:14:00.878510Z",
     "start_time": "2024-10-13T11:14:00.501991Z"
    }
   },
   "outputs": [
    {
     "data": {
      "image/png": "[encoded data removed]",
      "text/plain": [
       "<Figure size 864x432 with 4 Axes>"
      ]
     },
     "metadata": {
      "needs_background": "light"
     },
     "output_type": "display_data"
    }
   ],
   "source": [
    "image_path = '/Users/juliaromagosa/Downloads/imgs/E139.nii.gz'\n",
    "mask_path = '/Users/juliaromagosa/Downloads/masks/E139_mask.nii.gz'\n",
    "\n",
    "# Read the images\n",
    "image_array = sitk.GetArrayFromImage(sitk.ReadImage(image_path))\n",
    "mask_array = sitk.GetArrayFromImage(sitk.ReadImage(mask_path))\n",
    "masked_image = np.where(mask_array == 0, -1000, image_array)\n",
    "\n",
    "fig, axs = plt.subplots(1, 2, figsize=(12, 6))\n",
    "slice_index=image_array.shape[0]//2\n",
    "\n",
    "# Display the original image slice\n",
    "im1 = axs[0].imshow(image_array[slice_index, :, :], cmap='gray',vmin=-1000,vmax=1000)\n",
    "axs[0].set_title(f'Original Image Slice {slice_index}')\n",
    "axs[0].axis('off')\n",
    "plt.colorbar(im1, ax=axs[0])\n",
    "\n",
    "# Display the masked image slice\n",
    "im2 = axs[1].imshow(masked_image[slice_index, :, :], cmap='gray',vmin=-1000,vmax=1000)\n",
    "axs[1].set_title(f'Masked Image Slice {slice_index}')\n",
    "axs[1].axis('off')\n",
    "plt.colorbar(im2, ax=axs[1])\n",
    "\n",
    "# Show the plots\n",
    "plt.tight_layout()\n",
    "plt.show()\n"
   ]
  },
  {
   "cell_type": "markdown",
   "metadata": {},
   "source": [
    "In image E139, it is evident that the image has been sliced in half, which explains why the intensity peaks in the histogram are approximately half of those in the other images. It can be due to problems in image exportation or directly from the acquisition. Due to this issue, the image is not suitable for use and should be excluded from analysis."
   ]
  }
 ],
 "metadata": {
  "hide_input": false,
  "kernelspec": {
   "display_name": "Python 3",
   "language": "python",
   "name": "python3"
  },
  "language_info": {
   "codemirror_mode": {
    "name": "ipython",
    "version": 3
   },
   "file_extension": ".py",
   "mimetype": "text/x-python",
   "name": "python",
   "nbconvert_exporter": "python",
   "pygments_lexer": "ipython3",
   "version": "3.8.6"
  },
  "toc": {
   "base_numbering": 1,
   "nav_menu": {},
   "number_sections": true,
   "sideBar": true,
   "skip_h1_title": false,
   "title_cell": "Table of Contents",
   "title_sidebar": "Contents",
   "toc_cell": false,
   "toc_position": {
    "height": "calc(100% - 180px)",
    "left": "10px",
    "top": "150px",
    "width": "184px"
   },
   "toc_section_display": true,
   "toc_window_display": true
  },
  "varInspector": {
   "cols": {
    "lenName": 16,
    "lenType": 16,
    "lenVar": 40
   },
   "kernels_config": {
    "python": {
     "delete_cmd_postfix": "",
     "delete_cmd_prefix": "del ",
     "library": "var_list.py",
     "varRefreshCmd": "print(var_dic_list())"
    },
    "r": {
     "delete_cmd_postfix": ") ",
     "delete_cmd_prefix": "rm(",
     "library": "var_list.r",
     "varRefreshCmd": "cat(var_dic_list()) "
    }
   },
   "types_to_exclude": [
    "module",
    "function",
    "builtin_function_or_method",
    "instance",
    "_Feature"
   ],
   "window_display": false
  }
 },
 "nbformat": 4,
 "nbformat_minor": 4
}
